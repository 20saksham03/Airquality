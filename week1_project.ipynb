{
 "cells": [
  {
   "cell_type": "code",
   "execution_count": 1,
   "id": "65971e3e-bd72-4a09-b446-4e9abd6a9371",
   "metadata": {},
   "outputs": [],
   "source": [
    "import pandas as pd\n",
    "import numpy as np\n",
    "import matplotlib.pyplot as plt\n",
    "import seaborn as sns"
   ]
  },
  {
   "cell_type": "code",
   "execution_count": 2,
   "id": "9fc158c1",
   "metadata": {},
   "outputs": [],
   "source": [
    "df = pd.read_csv(\"AirQualityUCI.csv\")"
   ]
  },
  {
   "cell_type": "code",
   "execution_count": 3,
   "id": "1de0d42e",
   "metadata": {},
   "outputs": [
    {
     "name": "stdout",
     "output_type": "stream",
     "text": [
      "<class 'pandas.core.frame.DataFrame'>\n",
      "RangeIndex: 9471 entries, 0 to 9470\n",
      "Data columns (total 17 columns):\n",
      " #   Column         Non-Null Count  Dtype  \n",
      "---  ------         --------------  -----  \n",
      " 0   Date           9357 non-null   object \n",
      " 1   Time           9357 non-null   object \n",
      " 2   CO(GT)         9357 non-null   float64\n",
      " 3   PT08.S1(CO)    9357 non-null   float64\n",
      " 4   NMHC(GT)       9357 non-null   float64\n",
      " 5   C6H6(GT)       9357 non-null   float64\n",
      " 6   PT08.S2(NMHC)  9357 non-null   float64\n",
      " 7   NOx(GT)        9357 non-null   float64\n",
      " 8   PT08.S3(NOx)   9357 non-null   float64\n",
      " 9   NO2(GT)        9357 non-null   float64\n",
      " 10  PT08.S4(NO2)   9357 non-null   float64\n",
      " 11  PT08.S5(O3)    9357 non-null   float64\n",
      " 12  T              9357 non-null   float64\n",
      " 13  RH             9357 non-null   float64\n",
      " 14  AH             9357 non-null   float64\n",
      " 15  Unnamed: 15    0 non-null      float64\n",
      " 16  Unnamed: 16    0 non-null      float64\n",
      "dtypes: float64(15), object(2)\n",
      "memory usage: 1.2+ MB\n",
      "None\n",
      "            CO(GT)  PT08.S1(CO)     NMHC(GT)     C6H6(GT)  PT08.S2(NMHC)  \\\n",
      "count  9357.000000  9357.000000  9357.000000  9357.000000    9357.000000   \n",
      "mean    -34.207524  1048.990061  -159.090093     1.865683     894.595276   \n",
      "std      77.657170   329.832710   139.789093    41.380206     342.333252   \n",
      "min    -200.000000  -200.000000  -200.000000  -200.000000    -200.000000   \n",
      "25%       0.600000   921.000000  -200.000000     4.000000     711.000000   \n",
      "50%       1.500000  1053.000000  -200.000000     7.900000     895.000000   \n",
      "75%       2.600000  1221.000000  -200.000000    13.600000    1105.000000   \n",
      "max      11.900000  2040.000000  1189.000000    63.700000    2214.000000   \n",
      "\n",
      "           NOx(GT)  PT08.S3(NOx)      NO2(GT)  PT08.S4(NO2)  PT08.S5(O3)  \\\n",
      "count  9357.000000   9357.000000  9357.000000   9357.000000  9357.000000   \n",
      "mean    168.616971    794.990168    58.148873   1391.479641   975.072032   \n",
      "std     257.433866    321.993552   126.940455    467.210125   456.938184   \n",
      "min    -200.000000   -200.000000  -200.000000   -200.000000  -200.000000   \n",
      "25%      50.000000    637.000000    53.000000   1185.000000   700.000000   \n",
      "50%     141.000000    794.000000    96.000000   1446.000000   942.000000   \n",
      "75%     284.000000    960.000000   133.000000   1662.000000  1255.000000   \n",
      "max    1479.000000   2683.000000   340.000000   2775.000000  2523.000000   \n",
      "\n",
      "                 T           RH           AH  Unnamed: 15  Unnamed: 16  \n",
      "count  9357.000000  9357.000000  9357.000000          0.0          0.0  \n",
      "mean      9.778305    39.485380    -6.837604          NaN          NaN  \n",
      "std      43.203623    51.216145    38.976670          NaN          NaN  \n",
      "min    -200.000000  -200.000000  -200.000000          NaN          NaN  \n",
      "25%      10.900000    34.100000     0.692300          NaN          NaN  \n",
      "50%      17.200000    48.600000     0.976800          NaN          NaN  \n",
      "75%      24.100000    61.900000     1.296200          NaN          NaN  \n",
      "max      44.600000    88.700000     2.231000          NaN          NaN  \n",
      "Date              114\n",
      "Time              114\n",
      "CO(GT)            114\n",
      "PT08.S1(CO)       114\n",
      "NMHC(GT)          114\n",
      "C6H6(GT)          114\n",
      "PT08.S2(NMHC)     114\n",
      "NOx(GT)           114\n",
      "PT08.S3(NOx)      114\n",
      "NO2(GT)           114\n",
      "PT08.S4(NO2)      114\n",
      "PT08.S5(O3)       114\n",
      "T                 114\n",
      "RH                114\n",
      "AH                114\n",
      "Unnamed: 15      9471\n",
      "Unnamed: 16      9471\n",
      "dtype: int64\n"
     ]
    }
   ],
   "source": [
    "print(df.info())      \n",
    "print(df.describe())   \n",
    "print(df.isnull().sum())"
   ]
  }
 ],
 "metadata": {
  "kernelspec": {
   "display_name": "venv",
   "language": "python",
   "name": "python3"
  },
  "language_info": {
   "codemirror_mode": {
    "name": "ipython",
    "version": 3
   },
   "file_extension": ".py",
   "mimetype": "text/x-python",
   "name": "python",
   "nbconvert_exporter": "python",
   "pygments_lexer": "ipython3",
   "version": "3.13.2"
  }
 },
 "nbformat": 4,
 "nbformat_minor": 5
}
